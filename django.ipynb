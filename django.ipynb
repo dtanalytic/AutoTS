{
 "cells": [
  {
   "cell_type": "markdown",
   "id": "655f0a0f-74e0-456b-835e-e42a476e504a",
   "metadata": {},
   "source": [
    "# Asserts "
   ]
  },
  {
   "cell_type": "markdown",
   "id": "41289361-8892-42db-9dcd-4d0f6555baac",
   "metadata": {},
   "source": [
    "## Unittest "
   ]
  },
  {
   "cell_type": "code",
   "execution_count": null,
   "id": "d8d3e9c8-29be-4107-9505-ebccd1133e05",
   "metadata": {},
   "outputs": [],
   "source": [
    "self.assertEqual\n",
    "self.assertTrue(html.startswith('<html>'))\n",
    "self.assertIn('h1', html)"
   ]
  },
  {
   "cell_type": "markdown",
   "id": "d2bae2c3-c2b1-41ec-a66c-c03722928b07",
   "metadata": {},
   "source": [
    "## Django"
   ]
  },
  {
   "cell_type": "code",
   "execution_count": null,
   "id": "f2bee217-8767-491d-9417-0767870ef72d",
   "metadata": {},
   "outputs": [],
   "source": [
    "self.assertTemplateUsed(response, 'root_page.html')"
   ]
  },
  {
   "cell_type": "markdown",
   "id": "2cff83df-83d7-4184-ace3-74d5d93ab746",
   "metadata": {},
   "source": [
    "# TestCase Django ops "
   ]
  },
  {
   "cell_type": "code",
   "execution_count": null,
   "id": "9dd35882-c2af-4722-bfb0-76db85799379",
   "metadata": {},
   "outputs": [],
   "source": [
    "from django.test import TestCase"
   ]
  },
  {
   "cell_type": "markdown",
   "id": "e29c60bd-649d-4fb9-99f6-3649578b1007",
   "metadata": {},
   "source": [
    "## form request "
   ]
  },
  {
   "cell_type": "code",
   "execution_count": null,
   "id": "7b9f361a-e068-49d7-8eb2-7a361984bd7a",
   "metadata": {},
   "outputs": [],
   "source": [
    "response = self.client.get('/')\n",
    "# or with two / beginning end\n",
    "# response = self.client.get('/main/')"
   ]
  },
  {
   "cell_type": "code",
   "execution_count": null,
   "id": "0dfc30f4-d437-44d7-90d3-c8f66bde5ebd",
   "metadata": {},
   "outputs": [],
   "source": [
    "from django.http import HttpRequest\n",
    "request = HttpRequest()\n",
    "response = main_page(request)"
   ]
  },
  {
   "cell_type": "code",
   "execution_count": null,
   "id": "84da1b3a-d980-4bc0-bf68-3da50503e72b",
   "metadata": {},
   "outputs": [],
   "source": [
    "html = response.content.decode('utf8')"
   ]
  },
  {
   "cell_type": "markdown",
   "id": "a267e33d-eb08-435d-91d7-387804b5a183",
   "metadata": {},
   "source": [
    "## form response "
   ]
  },
  {
   "cell_type": "code",
   "execution_count": null,
   "id": "b286a71b-9289-49f1-b7da-a335a873ba48",
   "metadata": {},
   "outputs": [],
   "source": [
    "from django.http import HttpResponse\n",
    "\n",
    "HttpResponse('<html> <h1> main </h1></html>')"
   ]
  },
  {
   "cell_type": "code",
   "execution_count": null,
   "id": "8ad23172-5bfc-4f75-a31b-9f2f2112773c",
   "metadata": {},
   "outputs": [],
   "source": [
    "# add appname to INSTALLED_APPS (project_name/setttings.py)\n",
    "# INSTALLED_APPS = [\n",
    "#     'django.contrib.admin',\n",
    "#     'django.contrib.auth',\n",
    "#     'django.contrib.contenttypes',\n",
    "#     'django.contrib.sessions',\n",
    "#     'django.contrib.messages',\n",
    "#     'django.contrib.staticfiles',\n",
    "# \t'lists',\n",
    "# ]\n",
    "\n",
    "# UTF-8 без BOM кодировку сделать\n",
    "render(request, 'root_page.html')"
   ]
  },
  {
   "cell_type": "markdown",
   "id": "a3aabb99-bf9a-4fa7-8a25-09874a7e1396",
   "metadata": {},
   "source": [
    "# Start tests"
   ]
  },
  {
   "cell_type": "markdown",
   "id": "ee66a908-ac7d-494d-a936-f6f7e70b93d9",
   "metadata": {},
   "source": [
    "## from cmd "
   ]
  },
  {
   "cell_type": "raw",
   "id": "599100ee-d842-4e90-8548-04da97370eb8",
   "metadata": {},
   "source": [
    "# from cmd\n",
    "python manage.py test lists/tests"
   ]
  },
  {
   "cell_type": "markdown",
   "id": "ccaa7c39-4966-4237-a023-b707232cd10f",
   "metadata": {},
   "source": [
    "## from notebook (not working) "
   ]
  },
  {
   "cell_type": "raw",
   "id": "1e78c55c-e09c-4e91-b510-384ea218f91c",
   "metadata": {},
   "source": [
    "import sys\n",
    "sys.executable"
   ]
  },
  {
   "cell_type": "raw",
   "id": "ef976be6-3384-4d30-ab4e-de5b5d453528",
   "metadata": {},
   "source": [
    "!C:\\\\tools\\\\Anaconda3\\\\envs\\\\snab\\\\python.exe manage.py test lists/tests"
   ]
  },
  {
   "cell_type": "markdown",
   "id": "be8fd7e0-caff-4e2e-8df8-e4a4494bd862",
   "metadata": {},
   "source": [
    "## manual run "
   ]
  },
  {
   "cell_type": "code",
   "execution_count": 3,
   "id": "900f7236-9d3d-4e80-b421-0c3863d2bfc0",
   "metadata": {
    "collapsed": true,
    "jupyter": {
     "outputs_hidden": true
    },
    "tags": []
   },
   "outputs": [
    {
     "ename": "RuntimeError",
     "evalue": "Settings already configured.",
     "output_type": "error",
     "traceback": [
      "\u001b[1;31m---------------------------------------------------------------------------\u001b[0m",
      "\u001b[1;31mRuntimeError\u001b[0m                              Traceback (most recent call last)",
      "\u001b[1;32m<ipython-input-3-66fb47a4e0c1>\u001b[0m in \u001b[0;36m<module>\u001b[1;34m\u001b[0m\n\u001b[0;32m      4\u001b[0m \u001b[1;32mfrom\u001b[0m \u001b[0mlists\u001b[0m\u001b[1;33m.\u001b[0m\u001b[0mtests\u001b[0m\u001b[1;33m.\u001b[0m\u001b[0mtest_gen\u001b[0m \u001b[1;32mimport\u001b[0m \u001b[0mGenTest\u001b[0m\u001b[1;33m\u001b[0m\u001b[1;33m\u001b[0m\u001b[0m\n\u001b[0;32m      5\u001b[0m \u001b[1;33m\u001b[0m\u001b[0m\n\u001b[1;32m----> 6\u001b[1;33m \u001b[0msettings\u001b[0m\u001b[1;33m.\u001b[0m\u001b[0mconfigure\u001b[0m\u001b[1;33m(\u001b[0m\u001b[1;33m)\u001b[0m\u001b[1;33m\u001b[0m\u001b[1;33m\u001b[0m\u001b[0m\n\u001b[0m\u001b[0;32m      7\u001b[0m \u001b[0msetup_test_environment\u001b[0m\u001b[1;33m(\u001b[0m\u001b[1;33m)\u001b[0m\u001b[1;33m\u001b[0m\u001b[1;33m\u001b[0m\u001b[0m\n",
      "\u001b[1;32mC:\\tools\\Anaconda3\\envs\\snab\\lib\\site-packages\\django\\conf\\__init__.py\u001b[0m in \u001b[0;36mconfigure\u001b[1;34m(self, default_settings, **options)\u001b[0m\n\u001b[0;32m    116\u001b[0m         \"\"\"\n\u001b[0;32m    117\u001b[0m         \u001b[1;32mif\u001b[0m \u001b[0mself\u001b[0m\u001b[1;33m.\u001b[0m\u001b[0m_wrapped\u001b[0m \u001b[1;32mis\u001b[0m \u001b[1;32mnot\u001b[0m \u001b[0mempty\u001b[0m\u001b[1;33m:\u001b[0m\u001b[1;33m\u001b[0m\u001b[1;33m\u001b[0m\u001b[0m\n\u001b[1;32m--> 118\u001b[1;33m             \u001b[1;32mraise\u001b[0m \u001b[0mRuntimeError\u001b[0m\u001b[1;33m(\u001b[0m\u001b[1;34m'Settings already configured.'\u001b[0m\u001b[1;33m)\u001b[0m\u001b[1;33m\u001b[0m\u001b[1;33m\u001b[0m\u001b[0m\n\u001b[0m\u001b[0;32m    119\u001b[0m         \u001b[0mholder\u001b[0m \u001b[1;33m=\u001b[0m \u001b[0mUserSettingsHolder\u001b[0m\u001b[1;33m(\u001b[0m\u001b[0mdefault_settings\u001b[0m\u001b[1;33m)\u001b[0m\u001b[1;33m\u001b[0m\u001b[1;33m\u001b[0m\u001b[0m\n\u001b[0;32m    120\u001b[0m         \u001b[1;32mfor\u001b[0m \u001b[0mname\u001b[0m\u001b[1;33m,\u001b[0m \u001b[0mvalue\u001b[0m \u001b[1;32min\u001b[0m \u001b[0moptions\u001b[0m\u001b[1;33m.\u001b[0m\u001b[0mitems\u001b[0m\u001b[1;33m(\u001b[0m\u001b[1;33m)\u001b[0m\u001b[1;33m:\u001b[0m\u001b[1;33m\u001b[0m\u001b[1;33m\u001b[0m\u001b[0m\n",
      "\u001b[1;31mRuntimeError\u001b[0m: Settings already configured."
     ]
    }
   ],
   "source": [
    "from django.test.utils import setup_test_environment\n",
    "from unittest import TestResult\n",
    "from django.conf import settings\n",
    "from lists.tests.test_gen import GenTest\n",
    "\n",
    "settings.configure()\n",
    "setup_test_environment()"
   ]
  },
  {
   "cell_type": "code",
   "execution_count": 4,
   "id": "ef571e33-a098-4fe3-a2bc-54ec9b144808",
   "metadata": {},
   "outputs": [
    {
     "data": {
      "text/plain": [
       "1"
      ]
     },
     "execution_count": 4,
     "metadata": {},
     "output_type": "execute_result"
    }
   ],
   "source": [
    "t = GenTest('test_template')\n",
    "r = TestResult()\n",
    "t.run(r)\n",
    "r.testsRun # prints the number of tests that were run (should be 1)"
   ]
  },
  {
   "cell_type": "markdown",
   "id": "07d85469-018d-4e9b-8eb5-39628007d011",
   "metadata": {},
   "source": [
    "### Links\n",
    "- unittest suite (https://stackoverflow.com/questions/3374658/how-do-i-run-a-django-testcase-manually-against-other-database/3374988) "
   ]
  },
  {
   "cell_type": "markdown",
   "id": "de67e449-cc6c-4fc8-b3f9-0cb7ec466a99",
   "metadata": {},
   "source": [
    "## %run "
   ]
  },
  {
   "cell_type": "code",
   "execution_count": 5,
   "id": "ef273d18-b9fc-474f-8d14-7df7bdc09e34",
   "metadata": {
    "tags": []
   },
   "outputs": [],
   "source": [
    "%run lists/tests/test_gen.py"
   ]
  },
  {
   "cell_type": "code",
   "execution_count": 5,
   "id": "c32f7999-f1f1-4336-8e2b-899edd759645",
   "metadata": {},
   "outputs": [
    {
     "name": "stdout",
     "output_type": "stream",
     "text": [
      "hello Alan\n"
     ]
    }
   ],
   "source": [
    "%run django_test/urls.py"
   ]
  },
  {
   "cell_type": "markdown",
   "id": "3734b42c-8094-48e5-9e3d-7e054163511f",
   "metadata": {},
   "source": [
    "## Links\n",
    "- https://docs.djangoproject.com/en/4.1/topics/testing/overview/#running-tests"
   ]
  },
  {
   "cell_type": "markdown",
   "id": "9388a136-b60c-466b-822b-9ef74a647e71",
   "metadata": {},
   "source": [
    "# Настройка "
   ]
  },
  {
   "cell_type": "markdown",
   "id": "f308fed0-245a-4d5d-876c-201cca6617a2",
   "metadata": {},
   "source": [
    "## create project with django-admin (once)"
   ]
  },
  {
   "cell_type": "code",
   "execution_count": 2,
   "id": "55c04547-75b7-4a98-ab5a-90b3e02c47f7",
   "metadata": {},
   "outputs": [],
   "source": [
    "# move to directory\n",
    "# cd c:\\work\\dev\\python\\progs\\lessons\\\n",
    "\n",
    "# django-admin startproject django_test"
   ]
  },
  {
   "cell_type": "markdown",
   "id": "dccbd951-75c1-47ae-8b85-f435fff911ce",
   "metadata": {},
   "source": [
    "## run django server"
   ]
  },
  {
   "cell_type": "code",
   "execution_count": null,
   "id": "30117da7-3ca8-42f9-aa8f-6c10665deefc",
   "metadata": {},
   "outputs": [],
   "source": [
    "# cd c:\\work\\dev\\python\\progs\\lessons\\django_test\\\n",
    "# conda activate snab\n",
    "# python manage.py runserver"
   ]
  },
  {
   "cell_type": "markdown",
   "id": "1b6a6c09-efdb-4620-bc76-8c49442e955b",
   "metadata": {},
   "source": [
    "## create app"
   ]
  },
  {
   "cell_type": "code",
   "execution_count": null,
   "id": "eb139d1b-c70e-4615-a499-09dbfe2a5acc",
   "metadata": {},
   "outputs": [],
   "source": [
    "# cd c:\\work\\dev\\python\\progs\\lessons\\django_test\\\n",
    "# conda activate snab\n",
    "# python manage.py startapp lists"
   ]
  },
  {
   "cell_type": "markdown",
   "id": "8b0fe5e6-98d1-4a2d-8fb2-c3248b54922d",
   "metadata": {},
   "source": [
    "## url to view "
   ]
  },
  {
   "cell_type": "code",
   "execution_count": null,
   "id": "7318722b-8c1f-460f-9802-40e70c15e834",
   "metadata": {},
   "outputs": [],
   "source": [
    "# urls.py - в папке с именем проекта (она тоже в папке с именем проекта)\n",
    "# views - обработчики url-ов в папке приложения находятся\n",
    "\n",
    "во views добавляем обработчик\n",
    "в urls - добавляем:\n",
    "    - import app_name.views\n",
    "    - url в urlpaterns path('main/', lists.views.main_page, name='main_page'),"
   ]
  },
  {
   "cell_type": "markdown",
   "id": "a2471d52-2fb4-4702-bbbf-c56bc07ee764",
   "metadata": {},
   "source": [
    "### Links\n",
    "- how requests url searches https://docs.djangoproject.com/en/4.1/topics/http/urls/"
   ]
  },
  {
   "cell_type": "code",
   "execution_count": null,
   "id": "b20a99b8-8ace-4d05-b2a0-2b47989c4a4f",
   "metadata": {},
   "outputs": [],
   "source": []
  },
  {
   "cell_type": "markdown",
   "id": "04773aaf-9c28-45b9-b0ac-61a31ccb3167",
   "metadata": {},
   "source": [
    "Функциональные - верхнеуровневые тест, типа запустим браузре с селениум и посылаем значения в поля, отсылаем форму (имитация действий пользователя)\n",
    "Модульные - это на более низком уровне,  смотрим, есть ли обработчик урл, какой шаблон о возращает, есть ли в шаблоне поля нужные."
   ]
  },
  {
   "cell_type": "code",
   "execution_count": null,
   "id": "2a5a720b-8288-4502-852c-f90733b1505e",
   "metadata": {},
   "outputs": [],
   "source": []
  }
 ],
 "metadata": {
  "kernelspec": {
   "display_name": "Python 3",
   "language": "python",
   "name": "python3"
  },
  "language_info": {
   "codemirror_mode": {
    "name": "ipython",
    "version": 3
   },
   "file_extension": ".py",
   "mimetype": "text/x-python",
   "name": "python",
   "nbconvert_exporter": "python",
   "pygments_lexer": "ipython3",
   "version": "3.7.10"
  }
 },
 "nbformat": 4,
 "nbformat_minor": 5
}
